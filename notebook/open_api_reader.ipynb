{
 "cells": [
  {
   "cell_type": "code",
   "execution_count": 50,
   "metadata": {},
   "outputs": [],
   "source": [
    "import requests\n",
    "from bs4 import BeautifulSoup\n",
    "\n",
    "open_api_key = 'VwUNnuPS5treeoYbtM8R2Cw89HPvmvApECDi28RBhaY4z2eFUCx2WjEXUm1w%2B6iibQjSA5FxoeCMm3Pj5YDlhA%3D%3D'\n",
    "params = '&pageNo=1&numOfRows=10&startCreateDt=20200310&endCreateDt=20200315'\n",
    "\n",
    "#url = 'http://openapi.data.go.kr/openapi/service/rest/Covid19/getCovid19InfStateJson?ServiceKey=' + open_api_key + params\n",
    "#end_point = 'http://openapi.data.go.kr/openapi/service/rest/Covid19'\n",
    "open_url = 'http://openapi.data.go.kr/openapi/service/rest/Covid19/getCovid19NatInfStateJson?serviceKey=VwUNnuPS5treeoYbtM8R2Cw89HPvmvApECDi28RBhaY4z2eFUCx2WjEXUm1w%2B6iibQjSA5FxoeCMm3Pj5YDlhA%3D%3D&pageNo=1&numOfRows=10&startCreateDt=20200310&endCreateDt=20200414'\n",
    "\n",
    "\n",
    "res = requests.get(open_url).text.encode('utf-8')\n",
    "soup = BeautifulSoup(res, 'lxml-xml')"
   ]
  },
  {
   "cell_type": "code",
   "execution_count": 52,
   "metadata": {},
   "outputs": [
    {
     "data": {
      "text/plain": [
       "<item><areaNm>기타</areaNm><areaNmCn>其他</areaNmCn><areaNmEn>Others</areaNmEn><createDt>2020-04-14 10:43:52.52</createDt><natDeathCnt>0</natDeathCnt><natDeathRate>0.0</natDeathRate><natDefCnt>1</natDefCnt><nationNm>생피에르미클롱</nationNm><nationNmCn>聖皮埃爾和密克隆群島</nationNmCn><nationNmEn>Saint Pierre and Miquelon</nationNmEn><seq>9521</seq><stdDay>2020년 04월 14일 09시</stdDay><updateDt/></item>"
      ]
     },
     "execution_count": 52,
     "metadata": {},
     "output_type": "execute_result"
    }
   ],
   "source": [
    "rows = soup.findAll('item')\n",
    "rows[0]"
   ]
  },
  {
   "cell_type": "code",
   "execution_count": 53,
   "metadata": {
    "scrolled": true
   },
   "outputs": [
    {
     "data": {
      "text/plain": [
       "[<areaNm>기타</areaNm>,\n",
       " <areaNmCn>其他</areaNmCn>,\n",
       " <areaNmEn>Others</areaNmEn>,\n",
       " <createDt>2020-04-14 10:43:52.52</createDt>,\n",
       " <natDeathCnt>0</natDeathCnt>,\n",
       " <natDeathRate>0.0</natDeathRate>,\n",
       " <natDefCnt>1</natDefCnt>,\n",
       " <nationNm>생피에르미클롱</nationNm>,\n",
       " <nationNmCn>聖皮埃爾和密克隆群島</nationNmCn>,\n",
       " <nationNmEn>Saint Pierre and Miquelon</nationNmEn>,\n",
       " <seq>9521</seq>,\n",
       " <stdDay>2020년 04월 14일 09시</stdDay>,\n",
       " <updateDt/>]"
      ]
     },
     "execution_count": 53,
     "metadata": {},
     "output_type": "execute_result"
    }
   ],
   "source": [
    "columns = rows[0].find_all()\n",
    "columns"
   ]
  },
  {
   "cell_type": "code",
   "execution_count": 65,
   "metadata": {},
   "outputs": [
    {
     "name": "stdout",
     "output_type": "stream",
     "text": [
      "number of rows:  5948\n"
     ]
    },
    {
     "data": {
      "text/html": [
       "<div>\n",
       "<style scoped>\n",
       "    .dataframe tbody tr th:only-of-type {\n",
       "        vertical-align: middle;\n",
       "    }\n",
       "\n",
       "    .dataframe tbody tr th {\n",
       "        vertical-align: top;\n",
       "    }\n",
       "\n",
       "    .dataframe thead th {\n",
       "        text-align: right;\n",
       "    }\n",
       "</style>\n",
       "<table border=\"1\" class=\"dataframe\">\n",
       "  <thead>\n",
       "    <tr style=\"text-align: right;\">\n",
       "      <th></th>\n",
       "      <th>areaNm</th>\n",
       "      <th>areaNmCn</th>\n",
       "      <th>areaNmEn</th>\n",
       "      <th>createDt</th>\n",
       "      <th>natDeathCnt</th>\n",
       "      <th>natDeathRate</th>\n",
       "      <th>natDefCnt</th>\n",
       "      <th>nationNm</th>\n",
       "      <th>nationNmCn</th>\n",
       "      <th>nationNmEn</th>\n",
       "      <th>seq</th>\n",
       "      <th>stdDay</th>\n",
       "      <th>updateDt</th>\n",
       "    </tr>\n",
       "  </thead>\n",
       "  <tbody>\n",
       "    <tr>\n",
       "      <th>0</th>\n",
       "      <td>기타</td>\n",
       "      <td>其他</td>\n",
       "      <td>Others</td>\n",
       "      <td>2020-04-14 10:43:52.52</td>\n",
       "      <td>0</td>\n",
       "      <td>0.0</td>\n",
       "      <td>1</td>\n",
       "      <td>생피에르미클롱</td>\n",
       "      <td>聖皮埃爾和密克隆群島</td>\n",
       "      <td>Saint Pierre and Miquelon</td>\n",
       "      <td>9521</td>\n",
       "      <td>2020년 04월 14일 09시</td>\n",
       "      <td></td>\n",
       "    </tr>\n",
       "    <tr>\n",
       "      <th>1</th>\n",
       "      <td>기타</td>\n",
       "      <td>其他</td>\n",
       "      <td>Others</td>\n",
       "      <td>2020-04-14 10:43:52.52</td>\n",
       "      <td>0</td>\n",
       "      <td>0.0</td>\n",
       "      <td>5</td>\n",
       "      <td>포클랜드제도</td>\n",
       "      <td>福克蘭群島</td>\n",
       "      <td>Falkland Islands</td>\n",
       "      <td>9520</td>\n",
       "      <td>2020년 04월 14일 09시</td>\n",
       "      <td></td>\n",
       "    </tr>\n",
       "    <tr>\n",
       "      <th>2</th>\n",
       "      <td>기타</td>\n",
       "      <td>其他</td>\n",
       "      <td>Others</td>\n",
       "      <td>2020-04-14 10:43:52.52</td>\n",
       "      <td>0</td>\n",
       "      <td>0.0</td>\n",
       "      <td>3</td>\n",
       "      <td>카리브 네덜란드</td>\n",
       "      <td>加勒比荷蘭</td>\n",
       "      <td>Caribbean Netherlands</td>\n",
       "      <td>9519</td>\n",
       "      <td>2020년 04월 14일 09시</td>\n",
       "      <td></td>\n",
       "    </tr>\n",
       "    <tr>\n",
       "      <th>3</th>\n",
       "      <td>기타</td>\n",
       "      <td>其他</td>\n",
       "      <td>Others</td>\n",
       "      <td>2020-04-14 10:43:52.52</td>\n",
       "      <td>2</td>\n",
       "      <td>18.181818181</td>\n",
       "      <td>11</td>\n",
       "      <td>북마리아나제도</td>\n",
       "      <td>北瑪麗安群島</td>\n",
       "      <td>Northern Mariana Is.</td>\n",
       "      <td>9518</td>\n",
       "      <td>2020년 04월 14일 09시</td>\n",
       "      <td></td>\n",
       "    </tr>\n",
       "    <tr>\n",
       "      <th>4</th>\n",
       "      <td>기타</td>\n",
       "      <td>其他</td>\n",
       "      <td>Others</td>\n",
       "      <td>2020-04-14 10:43:52.52</td>\n",
       "      <td>0</td>\n",
       "      <td>0.0</td>\n",
       "      <td>3</td>\n",
       "      <td>영국령 버진아일랜드</td>\n",
       "      <td>英屬維爾京群島</td>\n",
       "      <td>British Virgin Islands</td>\n",
       "      <td>9517</td>\n",
       "      <td>2020년 04월 14일 09시</td>\n",
       "      <td></td>\n",
       "    </tr>\n",
       "  </tbody>\n",
       "</table>\n",
       "</div>"
      ],
      "text/plain": [
       "  areaNm areaNmCn areaNmEn                createDt natDeathCnt  natDeathRate  \\\n",
       "0     기타       其他   Others  2020-04-14 10:43:52.52           0           0.0   \n",
       "1     기타       其他   Others  2020-04-14 10:43:52.52           0           0.0   \n",
       "2     기타       其他   Others  2020-04-14 10:43:52.52           0           0.0   \n",
       "3     기타       其他   Others  2020-04-14 10:43:52.52           2  18.181818181   \n",
       "4     기타       其他   Others  2020-04-14 10:43:52.52           0           0.0   \n",
       "\n",
       "  natDefCnt    nationNm  nationNmCn                 nationNmEn   seq  \\\n",
       "0         1     생피에르미클롱  聖皮埃爾和密克隆群島  Saint Pierre and Miquelon  9521   \n",
       "1         5      포클랜드제도       福克蘭群島           Falkland Islands  9520   \n",
       "2         3    카리브 네덜란드       加勒比荷蘭      Caribbean Netherlands  9519   \n",
       "3        11     북마리아나제도      北瑪麗安群島       Northern Mariana Is.  9518   \n",
       "4         3  영국령 버진아일랜드     英屬維爾京群島     British Virgin Islands  9517   \n",
       "\n",
       "              stdDay updateDt  \n",
       "0  2020년 04월 14일 09시           \n",
       "1  2020년 04월 14일 09시           \n",
       "2  2020년 04월 14일 09시           \n",
       "3  2020년 04월 14일 09시           \n",
       "4  2020년 04월 14일 09시           "
      ]
     },
     "execution_count": 65,
     "metadata": {},
     "output_type": "execute_result"
    }
   ],
   "source": [
    "import pandas as pd\n",
    "\n",
    "rowlist = []\n",
    "collist = []\n",
    "tlist = []\n",
    "\n",
    "for i in range(0, len(rows)):\n",
    "    columns = rows[i].find_all()\n",
    "    for j in range(0, len(columns)):\n",
    "        if i == 0:\n",
    "            tlist.append(columns[j].name)\n",
    "        col_ = columns[j].text\n",
    "        collist.append(col_)\n",
    "    rowlist.append(collist)\n",
    "    collist=[]\n",
    "    \n",
    "result_df = pd.DataFrame(rowlist, columns=tlist)\n",
    "print('number of rows: ', len(result_df.index))\n",
    "result_df.head(5)\n",
    "\n"
   ]
  }
 ],
 "metadata": {
  "kernelspec": {
   "display_name": "Python 3",
   "language": "python",
   "name": "python3"
  },
  "language_info": {
   "codemirror_mode": {
    "name": "ipython",
    "version": 3
   },
   "file_extension": ".py",
   "mimetype": "text/x-python",
   "name": "python",
   "nbconvert_exporter": "python",
   "pygments_lexer": "ipython3",
   "version": "3.8.3"
  }
 },
 "nbformat": 4,
 "nbformat_minor": 4
}
