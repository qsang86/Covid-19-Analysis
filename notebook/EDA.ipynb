{
 "cells": [
  {
   "cell_type": "code",
   "execution_count": 5,
   "metadata": {},
   "outputs": [],
   "source": [
    "import pandas as pd\n",
    "import numpy as np\n",
    "import seaborn as sns\n",
    "import matplotlib.pyplot as plt\n",
    "\n",
    "import csv"
   ]
  },
  {
   "cell_type": "markdown",
   "metadata": {},
   "source": [
    "## Import Data\n",
    "### Data is already processed while importing via open API"
   ]
  },
  {
   "cell_type": "code",
   "execution_count": 6,
   "metadata": {},
   "outputs": [
    {
     "data": {
      "text/html": [
       "<div>\n",
       "<style scoped>\n",
       "    .dataframe tbody tr th:only-of-type {\n",
       "        vertical-align: middle;\n",
       "    }\n",
       "\n",
       "    .dataframe tbody tr th {\n",
       "        vertical-align: top;\n",
       "    }\n",
       "\n",
       "    .dataframe thead th {\n",
       "        text-align: right;\n",
       "    }\n",
       "</style>\n",
       "<table border=\"1\" class=\"dataframe\">\n",
       "  <thead>\n",
       "    <tr style=\"text-align: right;\">\n",
       "      <th></th>\n",
       "      <th>areaNmEn</th>\n",
       "      <th>nationNmEn</th>\n",
       "      <th>createDt</th>\n",
       "      <th>natDeathCnt</th>\n",
       "      <th>natDeathRate</th>\n",
       "      <th>natDefCnt</th>\n",
       "      <th>latitude</th>\n",
       "      <th>longitude</th>\n",
       "    </tr>\n",
       "  </thead>\n",
       "  <tbody>\n",
       "    <tr>\n",
       "      <th>0</th>\n",
       "      <td>Others</td>\n",
       "      <td>Saint Pierre and Miquelon</td>\n",
       "      <td>2020-04-14 10:43:52.52</td>\n",
       "      <td>0</td>\n",
       "      <td>0.000000</td>\n",
       "      <td>1</td>\n",
       "      <td>46.783247</td>\n",
       "      <td>-56.195159</td>\n",
       "    </tr>\n",
       "    <tr>\n",
       "      <th>1</th>\n",
       "      <td>Others</td>\n",
       "      <td>Falkland Islands</td>\n",
       "      <td>2020-04-14 10:43:52.52</td>\n",
       "      <td>0</td>\n",
       "      <td>0.000000</td>\n",
       "      <td>5</td>\n",
       "      <td>-51.966642</td>\n",
       "      <td>-59.550039</td>\n",
       "    </tr>\n",
       "    <tr>\n",
       "      <th>2</th>\n",
       "      <td>Others</td>\n",
       "      <td>Caribbean Netherlands</td>\n",
       "      <td>2020-04-14 10:43:52.52</td>\n",
       "      <td>0</td>\n",
       "      <td>0.000000</td>\n",
       "      <td>3</td>\n",
       "      <td>17.566000</td>\n",
       "      <td>-63.143239</td>\n",
       "    </tr>\n",
       "    <tr>\n",
       "      <th>3</th>\n",
       "      <td>Others</td>\n",
       "      <td>Northern Mariana Is.</td>\n",
       "      <td>2020-04-14 10:43:52.52</td>\n",
       "      <td>2</td>\n",
       "      <td>18.181818</td>\n",
       "      <td>11</td>\n",
       "      <td>-28.755100</td>\n",
       "      <td>24.729985</td>\n",
       "    </tr>\n",
       "    <tr>\n",
       "      <th>4</th>\n",
       "      <td>Others</td>\n",
       "      <td>British Virgin Islands</td>\n",
       "      <td>2020-04-14 10:43:52.52</td>\n",
       "      <td>0</td>\n",
       "      <td>0.000000</td>\n",
       "      <td>3</td>\n",
       "      <td>18.402439</td>\n",
       "      <td>-64.566164</td>\n",
       "    </tr>\n",
       "  </tbody>\n",
       "</table>\n",
       "</div>"
      ],
      "text/plain": [
       "  areaNmEn                 nationNmEn                createDt  natDeathCnt  \\\n",
       "0   Others  Saint Pierre and Miquelon  2020-04-14 10:43:52.52            0   \n",
       "1   Others           Falkland Islands  2020-04-14 10:43:52.52            0   \n",
       "2   Others      Caribbean Netherlands  2020-04-14 10:43:52.52            0   \n",
       "3   Others       Northern Mariana Is.  2020-04-14 10:43:52.52            2   \n",
       "4   Others     British Virgin Islands  2020-04-14 10:43:52.52            0   \n",
       "\n",
       "   natDeathRate  natDefCnt   latitude  longitude  \n",
       "0      0.000000          1  46.783247 -56.195159  \n",
       "1      0.000000          5 -51.966642 -59.550039  \n",
       "2      0.000000          3  17.566000 -63.143239  \n",
       "3     18.181818         11 -28.755100  24.729985  \n",
       "4      0.000000          3  18.402439 -64.566164  "
      ]
     },
     "execution_count": 6,
     "metadata": {},
     "output_type": "execute_result"
    }
   ],
   "source": [
    "# Unnecssry nation name in different languages are removed\n",
    "# Added geo code for the mapping\n",
    "\n",
    "df_covid = pd.read_excel('./covid_19.xlsx')\n",
    "df_covid.head(5)"
   ]
  },
  {
   "cell_type": "code",
   "execution_count": 7,
   "metadata": {},
   "outputs": [],
   "source": [
    "df_covid['createDt'] = pd.to_datetime(df_covid['createDt'], format='%Y/%m/%d %H:%M:%S')\n",
    "\n",
    "#create columns for YEAR & MONTH\n",
    "df_covid['year'] = pd.DatetimeIndex(df_covid['createDt']).year\n",
    "df_covid['month'] = pd.DatetimeIndex(df_covid['createDt']).month\n"
   ]
  },
  {
   "cell_type": "code",
   "execution_count": 85,
   "metadata": {},
   "outputs": [
    {
     "name": "stderr",
     "output_type": "stream",
     "text": [
      "<ipython-input-85-7ce3de385107>:1: FutureWarning: Indexing with multiple keys (implicitly converted to a tuple of keys) will be deprecated, use a list instead.\n",
      "  confirmed_by_name = pd.DataFrame(df_covid.groupby(\n"
     ]
    },
    {
     "data": {
      "text/html": [
       "<div>\n",
       "<style scoped>\n",
       "    .dataframe tbody tr th:only-of-type {\n",
       "        vertical-align: middle;\n",
       "    }\n",
       "\n",
       "    .dataframe tbody tr th {\n",
       "        vertical-align: top;\n",
       "    }\n",
       "\n",
       "    .dataframe thead th {\n",
       "        text-align: right;\n",
       "    }\n",
       "</style>\n",
       "<table border=\"1\" class=\"dataframe\">\n",
       "  <thead>\n",
       "    <tr style=\"text-align: right;\">\n",
       "      <th></th>\n",
       "      <th>nationNmEn</th>\n",
       "      <th>year</th>\n",
       "      <th>month</th>\n",
       "      <th>natDefCnt</th>\n",
       "      <th>natDeathCnt</th>\n",
       "      <th>Death Rate</th>\n",
       "    </tr>\n",
       "  </thead>\n",
       "  <tbody>\n",
       "    <tr>\n",
       "      <th>0</th>\n",
       "      <td>Afghanistan</td>\n",
       "      <td>2020</td>\n",
       "      <td>3</td>\n",
       "      <td>788</td>\n",
       "      <td>21</td>\n",
       "      <td>2.664975</td>\n",
       "    </tr>\n",
       "    <tr>\n",
       "      <th>1</th>\n",
       "      <td>Afghanistan</td>\n",
       "      <td>2020</td>\n",
       "      <td>4</td>\n",
       "      <td>5303</td>\n",
       "      <td>145</td>\n",
       "      <td>2.734301</td>\n",
       "    </tr>\n",
       "    <tr>\n",
       "      <th>2</th>\n",
       "      <td>Albania</td>\n",
       "      <td>2020</td>\n",
       "      <td>3</td>\n",
       "      <td>1695</td>\n",
       "      <td>61</td>\n",
       "      <td>3.598820</td>\n",
       "    </tr>\n",
       "    <tr>\n",
       "      <th>3</th>\n",
       "      <td>Albania</td>\n",
       "      <td>2020</td>\n",
       "      <td>4</td>\n",
       "      <td>4976</td>\n",
       "      <td>268</td>\n",
       "      <td>5.385852</td>\n",
       "    </tr>\n",
       "    <tr>\n",
       "      <th>4</th>\n",
       "      <td>Algeria</td>\n",
       "      <td>2020</td>\n",
       "      <td>3</td>\n",
       "      <td>2885</td>\n",
       "      <td>209</td>\n",
       "      <td>7.244367</td>\n",
       "    </tr>\n",
       "    <tr>\n",
       "      <th>5</th>\n",
       "      <td>Algeria</td>\n",
       "      <td>2020</td>\n",
       "      <td>4</td>\n",
       "      <td>18045</td>\n",
       "      <td>2184</td>\n",
       "      <td>12.103076</td>\n",
       "    </tr>\n",
       "    <tr>\n",
       "      <th>6</th>\n",
       "      <td>Andorra</td>\n",
       "      <td>2020</td>\n",
       "      <td>3</td>\n",
       "      <td>2176</td>\n",
       "      <td>21</td>\n",
       "      <td>0.965074</td>\n",
       "    </tr>\n",
       "    <tr>\n",
       "      <th>7</th>\n",
       "      <td>Andorra</td>\n",
       "      <td>2020</td>\n",
       "      <td>4</td>\n",
       "      <td>7111</td>\n",
       "      <td>274</td>\n",
       "      <td>3.853185</td>\n",
       "    </tr>\n",
       "    <tr>\n",
       "      <th>8</th>\n",
       "      <td>Angola</td>\n",
       "      <td>2020</td>\n",
       "      <td>3</td>\n",
       "      <td>18</td>\n",
       "      <td>0</td>\n",
       "      <td>0.000000</td>\n",
       "    </tr>\n",
       "    <tr>\n",
       "      <th>9</th>\n",
       "      <td>Angola</td>\n",
       "      <td>2020</td>\n",
       "      <td>4</td>\n",
       "      <td>187</td>\n",
       "      <td>26</td>\n",
       "      <td>13.903743</td>\n",
       "    </tr>\n",
       "  </tbody>\n",
       "</table>\n",
       "</div>"
      ],
      "text/plain": [
       "    nationNmEn  year  month  natDefCnt  natDeathCnt  Death Rate\n",
       "0  Afghanistan  2020      3        788           21    2.664975\n",
       "1  Afghanistan  2020      4       5303          145    2.734301\n",
       "2      Albania  2020      3       1695           61    3.598820\n",
       "3      Albania  2020      4       4976          268    5.385852\n",
       "4      Algeria  2020      3       2885          209    7.244367\n",
       "5      Algeria  2020      4      18045         2184   12.103076\n",
       "6      Andorra  2020      3       2176           21    0.965074\n",
       "7      Andorra  2020      4       7111          274    3.853185\n",
       "8       Angola  2020      3         18            0    0.000000\n",
       "9       Angola  2020      4        187           26   13.903743"
      ]
     },
     "execution_count": 85,
     "metadata": {},
     "output_type": "execute_result"
    }
   ],
   "source": [
    "confirmed_by_name = pd.DataFrame(df_covid.groupby(\n",
    "                    ['nationNmEn', 'year', 'month'])['natDefCnt', 'natDeathCnt']\n",
    "                                 .agg('sum').reset_index())\n",
    "confirmed_by_name['Death Rate'] = confirmed_by_name['natDeathCnt']/confirmed_by_name['natDefCnt']*100\n",
    "confirmed_by_name.head(10)"
   ]
  },
  {
   "cell_type": "code",
   "execution_count": 99,
   "metadata": {},
   "outputs": [
    {
     "data": {
      "text/plain": [
       "<matplotlib.axes._subplots.AxesSubplot at 0x236a28d92e0>"
      ]
     },
     "execution_count": 99,
     "metadata": {},
     "output_type": "execute_result"
    },
    {
     "data": {
      "image/png": "[encoded data removed]",
      "text/plain": [
       "<Figure size 720x720 with 1 Axes>"
      ]
     },
     "metadata": {
      "needs_background": "light"
     },
     "output_type": "display_data"
    }
   ],
   "source": [
    "sorted_df = confirmed_by_name.sort_values('natDefCnt', ascending=False).reset_index()\n",
    "plt.figure(figsize=(10, 10))\n",
    "sns.barplot(x='natDefCnt', y='nationNmEn', \n",
    "            data=sorted_df[(sorted_df.month==3)],\n",
    "            order = sorted_df['natDefCnt'].iloc[:100]\n",
    "           )"
   ]
  },
  {
   "cell_type": "code",
   "execution_count": 43,
   "metadata": {},
   "outputs": [],
   "source": [
    "\n",
    "\n"
   ]
  },
  {
   "cell_type": "code",
   "execution_count": null,
   "metadata": {},
   "outputs": [],
   "source": [
    "confirmed_by_nt = df_covid.groupby(['nationNmEn', ''])\n",
    "confirmed_by_nt.head(5)\n",
    "plt.figure(figsize=(5,5))\n",
    "sns.countplot(y='nationNmEn', data=df_covid)"
   ]
  }
 ],
 "metadata": {
  "kernelspec": {
   "display_name": "Python 3",
   "language": "python",
   "name": "python3"
  },
  "language_info": {
   "codemirror_mode": {
    "name": "ipython",
    "version": 3
   },
   "file_extension": ".py",
   "mimetype": "text/x-python",
   "name": "python",
   "nbconvert_exporter": "python",
   "pygments_lexer": "ipython3",
   "version": "3.8.3"
  }
 },
 "nbformat": 4,
 "nbformat_minor": 4
}
